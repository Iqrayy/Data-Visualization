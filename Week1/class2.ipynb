{
 "cells": [
  {
   "cell_type": "code",
   "execution_count": 3,
   "id": "537e6a08-e7b8-4f4e-97df-5e3eb054c523",
   "metadata": {},
   "outputs": [],
   "source": [
    "import numpy as np"
   ]
  },
  {
   "cell_type": "code",
   "execution_count": 5,
   "id": "9d231bfb-b482-43b4-bc97-f2fb7b4bfdcd",
   "metadata": {},
   "outputs": [],
   "source": [
    "thirty_eliments = np.arange(30)"
   ]
  },
  {
   "cell_type": "code",
   "execution_count": 7,
   "id": "a364a898-5756-40c6-985a-8186e6f66dec",
   "metadata": {},
   "outputs": [
    {
     "data": {
      "text/plain": [
       "array([ 0,  1,  2,  3,  4,  5,  6,  7,  8,  9, 10, 11, 12, 13, 14, 15, 16,\n",
       "       17, 18, 19, 20, 21, 22, 23, 24, 25, 26, 27, 28, 29])"
      ]
     },
     "execution_count": 7,
     "metadata": {},
     "output_type": "execute_result"
    }
   ],
   "source": [
    "thirty_eliments"
   ]
  },
  {
   "cell_type": "code",
   "execution_count": 11,
   "id": "3856ccef-3f5b-414d-8bca-ee2a0b0d0807",
   "metadata": {},
   "outputs": [
    {
     "data": {
      "text/plain": [
       "array([[ 0,  1,  2,  3,  4,  5,  6,  7,  8,  9],\n",
       "       [10, 11, 12, 13, 14, 15, 16, 17, 18, 19],\n",
       "       [20, 21, 22, 23, 24, 25, 26, 27, 28, 29]])"
      ]
     },
     "execution_count": 11,
     "metadata": {},
     "output_type": "execute_result"
    }
   ],
   "source": [
    "thirty_eliments.reshape(3,10)"
   ]
  },
  {
   "cell_type": "code",
   "execution_count": 13,
   "id": "cbeab412-a953-41a0-af71-77b7615508ec",
   "metadata": {},
   "outputs": [
    {
     "data": {
      "text/plain": [
       "array([[ 0],\n",
       "       [ 1],\n",
       "       [ 2],\n",
       "       [ 3],\n",
       "       [ 4],\n",
       "       [ 5],\n",
       "       [ 6],\n",
       "       [ 7],\n",
       "       [ 8],\n",
       "       [ 9],\n",
       "       [10],\n",
       "       [11],\n",
       "       [12],\n",
       "       [13],\n",
       "       [14],\n",
       "       [15],\n",
       "       [16],\n",
       "       [17],\n",
       "       [18],\n",
       "       [19],\n",
       "       [20],\n",
       "       [21],\n",
       "       [22],\n",
       "       [23],\n",
       "       [24],\n",
       "       [25],\n",
       "       [26],\n",
       "       [27],\n",
       "       [28],\n",
       "       [29]])"
      ]
     },
     "execution_count": 13,
     "metadata": {},
     "output_type": "execute_result"
    }
   ],
   "source": [
    "thirty_eliments.reshape(30,1)"
   ]
  },
  {
   "cell_type": "code",
   "execution_count": 19,
   "id": "e18dde16-79ed-412b-bf9e-4766950074c2",
   "metadata": {},
   "outputs": [],
   "source": [
    "rows = thirty_eliments.reshape(5,6)"
   ]
  },
  {
   "cell_type": "markdown",
   "id": "1f1e4ef7-cbcd-4fdb-a1e4-24db1e612d2f",
   "metadata": {},
   "source": [
    "## rows"
   ]
  },
  {
   "cell_type": "code",
   "execution_count": 25,
   "id": "7a1fdd2a-bbaf-467b-beb0-3a72d73f6680",
   "metadata": {},
   "outputs": [
    {
     "data": {
      "text/plain": [
       "array([[12, 13, 14, 15, 16, 17],\n",
       "       [18, 19, 20, 21, 22, 23]])"
      ]
     },
     "execution_count": 25,
     "metadata": {},
     "output_type": "execute_result"
    }
   ],
   "source": [
    "# retrive 2 and3 rows\n",
    "rows[2:4]"
   ]
  },
  {
   "cell_type": "code",
   "execution_count": 35,
   "id": "6b9e75ba-dc49-45bf-b417-f6214d00c1fd",
   "metadata": {},
   "outputs": [
    {
     "data": {
      "text/plain": [
       "array([[13, 14, 15, 16],\n",
       "       [19, 20, 21, 22]])"
      ]
     },
     "execution_count": 35,
     "metadata": {},
     "output_type": "execute_result"
    }
   ],
   "source": [
    "rows[2:4,1:5]"
   ]
  },
  {
   "cell_type": "code",
   "execution_count": 45,
   "id": "667de795-5dac-4593-9a7e-7605c242ae0d",
   "metadata": {},
   "outputs": [
    {
     "data": {
      "text/plain": [
       "array([[ 1,  2,  3],\n",
       "       [ 7,  8,  9],\n",
       "       [13, 14, 15],\n",
       "       [19, 20, 21]])"
      ]
     },
     "execution_count": 45,
     "metadata": {},
     "output_type": "execute_result"
    }
   ],
   "source": [
    "rows[0:4,1:4]"
   ]
  },
  {
   "cell_type": "code",
   "execution_count": 49,
   "id": "dfb4e987-edab-446c-8d23-ec5fa2eb7dfa",
   "metadata": {},
   "outputs": [
    {
     "data": {
      "text/plain": [
       "array([[ 0,  1,  2,  3,  4,  5],\n",
       "       [ 6,  7,  8,  9, 10, 11],\n",
       "       [12, 13, 14, 15, 16, 17],\n",
       "       [18, 19, 20, 21, 22, 23],\n",
       "       [24, 25, 26, 27, 28, 29]])"
      ]
     },
     "execution_count": 49,
     "metadata": {},
     "output_type": "execute_result"
    }
   ],
   "source": [
    "rows"
   ]
  },
  {
   "cell_type": "code",
   "execution_count": 117,
   "id": "c3031dab-0e9a-4b99-b58d-a8fd96c0475d",
   "metadata": {},
   "outputs": [
    {
     "data": {
      "text/plain": [
       "array([[ 1,  3,  5],\n",
       "       [ 7,  9, 11],\n",
       "       [13, 15, 17],\n",
       "       [19, 21, 23],\n",
       "       [25, 27, 29]])"
      ]
     },
     "execution_count": 117,
     "metadata": {},
     "output_type": "execute_result"
    }
   ],
   "source": [
    "rows[0:6, 1:6:2]"
   ]
  },
  {
   "cell_type": "code",
   "execution_count": 121,
   "id": "61249cf5-bfce-47ee-b715-eec92dfa7ea7",
   "metadata": {},
   "outputs": [
    {
     "data": {
      "text/plain": [
       "array([[ 1,  3,  5],\n",
       "       [13, 15, 17],\n",
       "       [25, 27, 29]])"
      ]
     },
     "execution_count": 121,
     "metadata": {},
     "output_type": "execute_result"
    }
   ],
   "source": [
    "rows[0:6:2, 1:6:2]"
   ]
  },
  {
   "cell_type": "code",
   "execution_count": 127,
   "id": "486c9f21-4df7-4aed-9848-5e0f40b7a28c",
   "metadata": {},
   "outputs": [
    {
     "data": {
      "text/plain": [
       "30"
      ]
     },
     "execution_count": 127,
     "metadata": {},
     "output_type": "execute_result"
    }
   ],
   "source": [
    "rows.size"
   ]
  },
  {
   "cell_type": "code",
   "execution_count": 129,
   "id": "6762a095-f212-4e44-acc0-30236f797a96",
   "metadata": {},
   "outputs": [
    {
     "data": {
      "text/plain": [
       "4"
      ]
     },
     "execution_count": 129,
     "metadata": {},
     "output_type": "execute_result"
    }
   ],
   "source": [
    "#memory allocation\n",
    "rows.itemsize"
   ]
  },
  {
   "cell_type": "code",
   "execution_count": 131,
   "id": "6624677b-8389-4ea9-8ad6-2d0d7d8b88c7",
   "metadata": {},
   "outputs": [
    {
     "data": {
      "text/plain": [
       "2"
      ]
     },
     "execution_count": 131,
     "metadata": {},
     "output_type": "execute_result"
    }
   ],
   "source": [
    "rows.ndim"
   ]
  },
  {
   "cell_type": "code",
   "execution_count": 133,
   "id": "a8749fa3-8da1-40bc-a984-a1ac06a7d196",
   "metadata": {},
   "outputs": [
    {
     "data": {
      "text/plain": [
       "dtype('int32')"
      ]
     },
     "execution_count": 133,
     "metadata": {},
     "output_type": "execute_result"
    }
   ],
   "source": [
    "rows.dtype"
   ]
  },
  {
   "cell_type": "code",
   "execution_count": 180,
   "id": "583f7e01-b773-4050-a967-4c3197310d15",
   "metadata": {},
   "outputs": [
    {
     "data": {
      "text/plain": [
       "array([[ 0,  1,  2,  3,  4,  5],\n",
       "       [ 6,  7,  8,  9, 10, 11],\n",
       "       [12, 13, 14, 15, 16, 17],\n",
       "       [18, 19, 20, 21, 22, 23],\n",
       "       [24, 25, 26, 27, 28, 29]])"
      ]
     },
     "execution_count": 180,
     "metadata": {},
     "output_type": "execute_result"
    }
   ],
   "source": [
    "rows"
   ]
  },
  {
   "cell_type": "code",
   "execution_count": 143,
   "id": "391ee469-fa4c-4e9e-a34e-17f5da241ac2",
   "metadata": {
    "scrolled": true
   },
   "outputs": [
    {
     "name": "stdout",
     "output_type": "stream",
     "text": [
      "0\n",
      "1\n",
      "2\n",
      "3\n",
      "4\n",
      "5\n",
      "6\n",
      "7\n",
      "8\n",
      "9\n",
      "10\n",
      "11\n",
      "12\n",
      "13\n",
      "14\n",
      "15\n",
      "16\n",
      "17\n",
      "18\n",
      "19\n",
      "20\n",
      "21\n",
      "22\n",
      "23\n",
      "24\n",
      "25\n",
      "26\n",
      "27\n",
      "28\n",
      "29\n"
     ]
    }
   ],
   "source": [
    "# for iterator in terable\n",
    "\n",
    "for i in np.nditer(rows):\n",
    "    print(i)"
   ]
  },
  {
   "cell_type": "code",
   "execution_count": 155,
   "id": "a94c832f-8456-4af1-b8f9-8c1a2c0f82af",
   "metadata": {},
   "outputs": [],
   "source": [
    "arr1 = np.array([1,2,3,4,5,6])\n",
    "arr2 = np.array([4,5,6,7,8,9])"
   ]
  },
  {
   "cell_type": "code",
   "execution_count": 149,
   "id": "fbc909f3-99ab-42b4-91bc-a6f6e74051ed",
   "metadata": {},
   "outputs": [
    {
     "data": {
      "text/plain": [
       "array([ 3,  4, 65, 32,  4,  5,  6])"
      ]
     },
     "execution_count": 149,
     "metadata": {},
     "output_type": "execute_result"
    }
   ],
   "source": [
    "arr2"
   ]
  },
  {
   "cell_type": "code",
   "execution_count": 151,
   "id": "fea76095-9505-4350-b0c3-ebb546a4994f",
   "metadata": {},
   "outputs": [
    {
     "data": {
      "text/plain": [
       "array([ 2,  3,  5,  6,  7, 34,  5])"
      ]
     },
     "execution_count": 151,
     "metadata": {},
     "output_type": "execute_result"
    }
   ],
   "source": [
    "arr1"
   ]
  },
  {
   "cell_type": "code",
   "execution_count": 157,
   "id": "0dbc98a8-1b18-4426-b763-3867806fac6c",
   "metadata": {},
   "outputs": [
    {
     "name": "stdout",
     "output_type": "stream",
     "text": [
      "[ 1  4  9 16 25 36]\n"
     ]
    }
   ],
   "source": [
    "print(arr1*arr1)"
   ]
  },
  {
   "cell_type": "code",
   "execution_count": 159,
   "id": "aa9e3d0f-4734-4e49-8e64-8b20b27546bc",
   "metadata": {},
   "outputs": [
    {
     "data": {
      "text/plain": [
       "array([ 2,  4,  6,  8, 10, 12])"
      ]
     },
     "execution_count": 159,
     "metadata": {},
     "output_type": "execute_result"
    }
   ],
   "source": [
    "2*arr1"
   ]
  },
  {
   "cell_type": "code",
   "execution_count": 162,
   "id": "8de917de-f6c9-4f3c-9bbe-066f2725f399",
   "metadata": {},
   "outputs": [
    {
     "data": {
      "text/plain": [
       "array([ 2,  4,  8, 16, 32, 64], dtype=int32)"
      ]
     },
     "execution_count": 162,
     "metadata": {},
     "output_type": "execute_result"
    }
   ],
   "source": [
    "2**arr1"
   ]
  },
  {
   "cell_type": "code",
   "execution_count": 166,
   "id": "40b2ed97-1c6c-4b93-805b-3c8fd54a91a7",
   "metadata": {},
   "outputs": [
    {
     "data": {
      "text/plain": [
       "array([False, False,  True,  True,  True,  True])"
      ]
     },
     "execution_count": 166,
     "metadata": {},
     "output_type": "execute_result"
    }
   ],
   "source": [
    "arr1>=3"
   ]
  },
  {
   "cell_type": "code",
   "execution_count": 170,
   "id": "b063b0e3-3b33-4e13-b4b5-bb250c1e2c72",
   "metadata": {},
   "outputs": [
    {
     "data": {
      "text/plain": [
       "154"
      ]
     },
     "execution_count": 170,
     "metadata": {},
     "output_type": "execute_result"
    }
   ],
   "source": [
    "arr2.dot(arr1)"
   ]
  },
  {
   "cell_type": "code",
   "execution_count": 172,
   "id": "74dfc707-039b-478c-9329-2a7f233d7824",
   "metadata": {},
   "outputs": [
    {
     "data": {
      "text/plain": [
       "6"
      ]
     },
     "execution_count": 172,
     "metadata": {},
     "output_type": "execute_result"
    }
   ],
   "source": [
    "arr1.max()"
   ]
  },
  {
   "cell_type": "code",
   "execution_count": 174,
   "id": "a9e786d1-7b02-45f6-ac4f-393af5b65f60",
   "metadata": {},
   "outputs": [
    {
     "data": {
      "text/plain": [
       "1"
      ]
     },
     "execution_count": 174,
     "metadata": {},
     "output_type": "execute_result"
    }
   ],
   "source": [
    "arr1.min()"
   ]
  },
  {
   "cell_type": "code",
   "execution_count": 178,
   "id": "e52db3d2-3147-460e-8104-c30ef484367d",
   "metadata": {},
   "outputs": [
    {
     "name": "stdout",
     "output_type": "stream",
     "text": [
      "1\n"
     ]
    }
   ],
   "source": [
    "## row wise min and max\n"
   ]
  },
  {
   "cell_type": "code",
   "execution_count": 182,
   "id": "de407b1c-685a-4ca0-a9e8-a0c915155163",
   "metadata": {},
   "outputs": [
    {
     "data": {
      "text/plain": [
       "array([0, 1, 2, 3, 4, 5])"
      ]
     },
     "execution_count": 182,
     "metadata": {},
     "output_type": "execute_result"
    }
   ],
   "source": [
    "rows.min(axis=0)"
   ]
  },
  {
   "cell_type": "code",
   "execution_count": null,
   "id": "ac2d44d6-518e-4f71-bb3d-7c0be7e9a12f",
   "metadata": {},
   "outputs": [],
   "source": [
    "rows.max(axis=0)"
   ]
  }
 ],
 "metadata": {
  "kernelspec": {
   "display_name": "Python 3 (ipykernel)",
   "language": "python",
   "name": "python3"
  },
  "language_info": {
   "codemirror_mode": {
    "name": "ipython",
    "version": 3
   },
   "file_extension": ".py",
   "mimetype": "text/x-python",
   "name": "python",
   "nbconvert_exporter": "python",
   "pygments_lexer": "ipython3",
   "version": "3.12.4"
  }
 },
 "nbformat": 4,
 "nbformat_minor": 5
}
