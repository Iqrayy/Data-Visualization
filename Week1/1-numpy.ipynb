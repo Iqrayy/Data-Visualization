{
 "cells": [
  {
   "cell_type": "code",
   "execution_count": null,
   "id": "ac05b81e-3131-46f9-a877-8afe972cd053",
   "metadata": {},
   "outputs": [],
   "source": []
  },
  {
   "cell_type": "code",
   "execution_count": 3,
   "id": "f09e0e91-baa1-4162-8897-70aede7d36e5",
   "metadata": {},
   "outputs": [],
   "source": [
    "# importing numpy\n",
    "\n",
    "import numpy as np"
   ]
  },
  {
   "cell_type": "code",
   "execution_count": 5,
   "id": "ed7d3852-7b0a-40fc-a879-534d99324b81",
   "metadata": {},
   "outputs": [
    {
     "data": {
      "text/plain": [
       "array([1, 2, 3, 4, 5])"
      ]
     },
     "execution_count": 5,
     "metadata": {},
     "output_type": "execute_result"
    }
   ],
   "source": [
    "arr = np.array([1,2,3,4,5])\n",
    "arr"
   ]
  },
  {
   "cell_type": "code",
   "execution_count": 7,
   "id": "d42af0d6-4b94-4ac3-ae96-2e47e0d60336",
   "metadata": {},
   "outputs": [
    {
     "data": {
      "text/plain": [
       "numpy.ndarray"
      ]
     },
     "execution_count": 7,
     "metadata": {},
     "output_type": "execute_result"
    }
   ],
   "source": [
    "type(arr)"
   ]
  },
  {
   "cell_type": "code",
   "execution_count": 9,
   "id": "e91ef673-0105-4b51-b59c-6a22a8fd7b83",
   "metadata": {},
   "outputs": [
    {
     "name": "stdout",
     "output_type": "stream",
     "text": [
      "<class 'numpy.ndarray'>\n"
     ]
    }
   ],
   "source": [
    "print(type(arr))"
   ]
  },
  {
   "cell_type": "markdown",
   "id": "6c9fc381-e985-413d-b82d-ab2e182e832b",
   "metadata": {},
   "source": [
    "# Diemensions"
   ]
  },
  {
   "cell_type": "code",
   "execution_count": 25,
   "id": "8b495544-c1b2-482d-b5a1-418ff3749ea2",
   "metadata": {},
   "outputs": [],
   "source": [
    "arr1 = np.array([[1,2,3,56,7,53,24,5,6],[3,5,3,4,3,2,6,7,8]])"
   ]
  },
  {
   "cell_type": "code",
   "execution_count": 27,
   "id": "358e304c-caf4-48b7-acee-4094b66aac83",
   "metadata": {},
   "outputs": [
    {
     "name": "stdout",
     "output_type": "stream",
     "text": [
      "2\n"
     ]
    }
   ],
   "source": [
    "print(arr1.ndim)"
   ]
  },
  {
   "cell_type": "code",
   "execution_count": 29,
   "id": "5153f569-4af0-40f7-be7e-3c5ec2c89eeb",
   "metadata": {},
   "outputs": [
    {
     "data": {
      "text/plain": [
       "array([[ 1,  2,  3, 56,  7, 53, 24,  5,  6],\n",
       "       [ 3,  5,  3,  4,  3,  2,  6,  7,  8]])"
      ]
     },
     "execution_count": 29,
     "metadata": {},
     "output_type": "execute_result"
    }
   ],
   "source": [
    "arr1"
   ]
  },
  {
   "cell_type": "code",
   "execution_count": 41,
   "id": "39ba5310-de92-4e09-b987-617721ed7abb",
   "metadata": {},
   "outputs": [
    {
     "ename": "SyntaxError",
     "evalue": "closing parenthesis ')' does not match opening parenthesis '[' (1841043292.py, line 1)",
     "output_type": "error",
     "traceback": [
      "\u001b[1;36m  Cell \u001b[1;32mIn[41], line 1\u001b[1;36m\u001b[0m\n\u001b[1;33m    arr1 = np.array([[[1,2,3,56,7,53,24,5,6],[3,5,3,4,3,2,6,7,8],[,5,6,3,4,6,3,6,8,4,2])\u001b[0m\n\u001b[1;37m                                                                                       ^\u001b[0m\n\u001b[1;31mSyntaxError\u001b[0m\u001b[1;31m:\u001b[0m closing parenthesis ')' does not match opening parenthesis '['\n"
     ]
    }
   ],
   "source": [
    "arr1 = np.array([[[1,2,3,56,7,53,24,5,6],[3,5,3,4,3,2,6,7,8],[,5,6,3,4,6,3,6,8,4,2])"
   ]
  },
  {
   "cell_type": "code",
   "execution_count": 33,
   "id": "ed6ceaaf-462c-43b2-828f-5b1e44ccfbfd",
   "metadata": {},
   "outputs": [
    {
     "name": "stdout",
     "output_type": "stream",
     "text": [
      "3\n"
     ]
    }
   ],
   "source": [
    "print(arr1.ndim)"
   ]
  },
  {
   "cell_type": "code",
   "execution_count": 61,
   "id": "55d14c02-c03f-437e-be72-ff8a2e6d9a40",
   "metadata": {},
   "outputs": [],
   "source": [
    "arr2 = np.array([[[1,2,3],[1,2,3],[1,2,3]]])"
   ]
  },
  {
   "cell_type": "code",
   "execution_count": 63,
   "id": "a1ce2844-7bad-48ca-a7cb-eabbdc0596f8",
   "metadata": {},
   "outputs": [
    {
     "name": "stdout",
     "output_type": "stream",
     "text": [
      "3\n"
     ]
    }
   ],
   "source": [
    "print(arr2.ndim)"
   ]
  },
  {
   "cell_type": "code",
   "execution_count": 69,
   "id": "cb090ee0-7c6a-4303-8807-db86c752f79a",
   "metadata": {},
   "outputs": [],
   "source": [
    "arr5 = np.identity((4))"
   ]
  },
  {
   "cell_type": "code",
   "execution_count": 71,
   "id": "781c5647-5a5b-4e53-8999-fa1be5e60d50",
   "metadata": {},
   "outputs": [
    {
     "data": {
      "text/plain": [
       "array([[1., 0., 0., 0.],\n",
       "       [0., 1., 0., 0.],\n",
       "       [0., 0., 1., 0.],\n",
       "       [0., 0., 0., 1.]])"
      ]
     },
     "execution_count": 71,
     "metadata": {},
     "output_type": "execute_result"
    }
   ],
   "source": [
    "1\n",
    "arr5"
   ]
  },
  {
   "cell_type": "code",
   "execution_count": 73,
   "id": "fddd5653-9320-48b5-ab15-4f81d0003360",
   "metadata": {},
   "outputs": [
    {
     "name": "stdout",
     "output_type": "stream",
     "text": [
      "[10.         13.33333333 16.66666667 20.        ]\n"
     ]
    }
   ],
   "source": [
    "arr6 = np.linspace(10,20,4)\n",
    "print(arr6)"
   ]
  },
  {
   "cell_type": "code",
   "execution_count": 77,
   "id": "a03adcde-7e53-4473-8fed-5564c4e805dd",
   "metadata": {},
   "outputs": [
    {
     "data": {
      "text/plain": [
       "array([[[1, 2, 3],\n",
       "        [1, 2, 3],\n",
       "        [1, 2, 3]]])"
      ]
     },
     "execution_count": 77,
     "metadata": {},
     "output_type": "execute_result"
    }
   ],
   "source": [
    "arr2"
   ]
  },
  {
   "cell_type": "code",
   "execution_count": 79,
   "id": "4b66b7c4-9949-4b8e-9064-28393d265f13",
   "metadata": {},
   "outputs": [
    {
     "data": {
      "text/plain": [
       "array([[[1, 2, 3],\n",
       "        [1, 2, 3],\n",
       "        [1, 2, 3]]])"
      ]
     },
     "execution_count": 79,
     "metadata": {},
     "output_type": "execute_result"
    }
   ],
   "source": [
    "arr5"
   ]
  },
  {
   "cell_type": "raw",
   "id": "71ed7f6b-b0ba-43be-b783-3b600d41eaf2",
   "metadata": {},
   "source": []
  },
  {
   "cell_type": "code",
   "execution_count": 75,
   "id": "4d208e3c-8546-4e7e-a8d0-d6e808394721",
   "metadata": {},
   "outputs": [
    {
     "data": {
      "text/plain": [
       "array([[[1, 2, 3],\n",
       "        [1, 2, 3],\n",
       "        [1, 2, 3]]])"
      ]
     },
     "execution_count": 75,
     "metadata": {},
     "output_type": "execute_result"
    }
   ],
   "source": [
    "arr5 = arr2.copy()\n",
    "arr5"
   ]
  },
  {
   "cell_type": "code",
   "execution_count": 81,
   "id": "18ba534f-2d27-41ec-85d8-f817472d9483",
   "metadata": {},
   "outputs": [
    {
     "data": {
      "text/plain": [
       "(1, 3, 3)"
      ]
     },
     "execution_count": 81,
     "metadata": {},
     "output_type": "execute_result"
    }
   ],
   "source": [
    "arr5.shape"
   ]
  },
  {
   "cell_type": "code",
   "execution_count": 83,
   "id": "684d1664-f91a-41bf-ad34-223e6d93b53b",
   "metadata": {},
   "outputs": [
    {
     "data": {
      "text/plain": [
       "(1, 1, 0)"
      ]
     },
     "execution_count": 83,
     "metadata": {},
     "output_type": "execute_result"
    }
   ],
   "source": [
    "arr1.shape"
   ]
  },
  {
   "cell_type": "code",
   "execution_count": 87,
   "id": "6cebb001-98a3-457c-bb1d-86f56405d142",
   "metadata": {},
   "outputs": [],
   "source": [
    "three_d = np.array([[[12,34,33],[2,34,22]],[[12,34,33],[2,34,22]]])"
   ]
  },
  {
   "cell_type": "code",
   "execution_count": 89,
   "id": "575e991a-60bc-451d-bc29-16123e2d3871",
   "metadata": {},
   "outputs": [
    {
     "data": {
      "text/plain": [
       "3"
      ]
     },
     "execution_count": 89,
     "metadata": {},
     "output_type": "execute_result"
    }
   ],
   "source": [
    "three_d.ndim"
   ]
  },
  {
   "cell_type": "code",
   "execution_count": 91,
   "id": "c5f44559-7c29-42d4-a343-8906425dea3d",
   "metadata": {},
   "outputs": [
    {
     "name": "stdout",
     "output_type": "stream",
     "text": [
      "[[[12 34 33]\n",
      "  [ 2 34 22]]\n",
      "\n",
      " [[12 34 33]\n",
      "  [ 2 34 22]]]\n"
     ]
    }
   ],
   "source": [
    "print(three_d)"
   ]
  },
  {
   "cell_type": "code",
   "execution_count": 93,
   "id": "5b716721-4550-4bb6-8311-ed9bfb71bea0",
   "metadata": {},
   "outputs": [],
   "source": [
    "four_d = np.array([[[[12,34,33],[2,34,22]],[[12,34,33],[2,34,22]]]])"
   ]
  },
  {
   "cell_type": "code",
   "execution_count": 95,
   "id": "e7540a34-30df-4a42-907e-136db912a408",
   "metadata": {},
   "outputs": [
    {
     "data": {
      "text/plain": [
       "array([[[[12, 34, 33],\n",
       "         [ 2, 34, 22]],\n",
       "\n",
       "        [[12, 34, 33],\n",
       "         [ 2, 34, 22]]]])"
      ]
     },
     "execution_count": 95,
     "metadata": {},
     "output_type": "execute_result"
    }
   ],
   "source": [
    "four_d"
   ]
  },
  {
   "cell_type": "code",
   "execution_count": 97,
   "id": "bbda037b-6e62-4155-82ad-09867d3f855c",
   "metadata": {},
   "outputs": [
    {
     "data": {
      "text/plain": [
       "12"
      ]
     },
     "execution_count": 97,
     "metadata": {},
     "output_type": "execute_result"
    }
   ],
   "source": [
    "four_d.size"
   ]
  },
  {
   "cell_type": "code",
   "execution_count": 99,
   "id": "99bef11c-796f-417f-80be-c1404f0a3796",
   "metadata": {},
   "outputs": [
    {
     "data": {
      "text/plain": [
       "4"
      ]
     },
     "execution_count": 99,
     "metadata": {},
     "output_type": "execute_result"
    }
   ],
   "source": [
    "four_d.itemsize"
   ]
  },
  {
   "cell_type": "markdown",
   "id": "9f5c3ffe-48c2-4dbf-a941-d00f27f3d269",
   "metadata": {},
   "source": [
    "# LIST VS ARRAY"
   ]
  },
  {
   "cell_type": "code",
   "execution_count": 104,
   "id": "76d099ce-967a-49f8-9675-afb0e91178cd",
   "metadata": {},
   "outputs": [
    {
     "data": {
      "text/plain": [
       "range(0, 100)"
      ]
     },
     "execution_count": 104,
     "metadata": {},
     "output_type": "execute_result"
    }
   ],
   "source": [
    "a=range(100)\n",
    "a"
   ]
  },
  {
   "cell_type": "code",
   "execution_count": 110,
   "id": "25fbbb33-991e-4291-ae6a-4ef99b526429",
   "metadata": {},
   "outputs": [
    {
     "data": {
      "text/plain": [
       "array([ 0,  1,  2,  3,  4,  5,  6,  7,  8,  9, 10, 11, 12, 13, 14, 15, 16,\n",
       "       17, 18, 19, 20, 21, 22, 23, 24, 25, 26, 27, 28, 29, 30, 31, 32, 33,\n",
       "       34, 35, 36, 37, 38, 39, 40, 41, 42, 43, 44, 45, 46, 47, 48, 49, 50,\n",
       "       51, 52, 53, 54, 55, 56, 57, 58, 59, 60, 61, 62, 63, 64, 65, 66, 67,\n",
       "       68, 69, 70, 71, 72, 73, 74, 75, 76, 77, 78, 79, 80, 81, 82, 83, 84,\n",
       "       85, 86, 87, 88, 89, 90, 91, 92, 93, 94, 95, 96, 97, 98, 99])"
      ]
     },
     "execution_count": 110,
     "metadata": {},
     "output_type": "execute_result"
    }
   ],
   "source": [
    "list1 = np.arange(100)\n",
    "list1"
   ]
  },
  {
   "cell_type": "code",
   "execution_count": 106,
   "id": "d4fbe59b-f1ee-41e8-978a-381532e55303",
   "metadata": {},
   "outputs": [],
   "source": [
    "import sys"
   ]
  },
  {
   "cell_type": "code",
   "execution_count": 116,
   "id": "fe669491-30cf-44fd-8d0b-741ef202d7a6",
   "metadata": {},
   "outputs": [
    {
     "name": "stdout",
     "output_type": "stream",
     "text": [
      "2800\n"
     ]
    }
   ],
   "source": [
    "print(sys.getsizeof(1)*len(list1))"
   ]
  },
  {
   "cell_type": "code",
   "execution_count": 120,
   "id": "e14af23e-f8f4-43ea-81da-c9947767d2e7",
   "metadata": {},
   "outputs": [
    {
     "name": "stdout",
     "output_type": "stream",
     "text": [
      "0\n"
     ]
    }
   ],
   "source": [
    "print(arr1.itemsize*arr1.size)"
   ]
  },
  {
   "cell_type": "code",
   "execution_count": 140,
   "id": "5dec66f6-41eb-4d99-85e4-185f78e9c364",
   "metadata": {},
   "outputs": [],
   "source": [
    "new_arr = np.arange(24).reshape(6,4)"
   ]
  },
  {
   "cell_type": "code",
   "execution_count": 142,
   "id": "daefdcaf-47bc-4012-935f-20b441f5f743",
   "metadata": {},
   "outputs": [
    {
     "data": {
      "text/plain": [
       "array([[ 0,  1,  2,  3],\n",
       "       [ 4,  5,  6,  7],\n",
       "       [ 8,  9, 10, 11],\n",
       "       [12, 13, 14, 15],\n",
       "       [16, 17, 18, 19],\n",
       "       [20, 21, 22, 23]])"
      ]
     },
     "execution_count": 142,
     "metadata": {},
     "output_type": "execute_result"
    }
   ],
   "source": [
    "new_arr"
   ]
  },
  {
   "cell_type": "code",
   "execution_count": 172,
   "id": "62c5775d-2782-4fab-becf-aded4f8f67d0",
   "metadata": {},
   "outputs": [
    {
     "data": {
      "text/plain": [
       "array([ 9, 10])"
      ]
     },
     "execution_count": 172,
     "metadata": {},
     "output_type": "execute_result"
    }
   ],
   "source": [
    "new_arr[2:4][0][1:3]"
   ]
  },
  {
   "cell_type": "code",
   "execution_count": 176,
   "id": "cd847710-c5aa-4250-bbb6-66630cf19c04",
   "metadata": {},
   "outputs": [
    {
     "data": {
      "text/plain": [
       "array([[ 9, 10],\n",
       "       [13, 14]])"
      ]
     },
     "execution_count": 176,
     "metadata": {},
     "output_type": "execute_result"
    }
   ],
   "source": [
    "rows:rows, columns : columns\n",
    "\n",
    "new_arr[2:4, 1:3]"
   ]
  },
  {
   "cell_type": "code",
   "execution_count": 178,
   "id": "40cafbad-ffe5-429a-91b0-5f79b237e1c1",
   "metadata": {},
   "outputs": [
    {
     "data": {
      "text/plain": [
       "array([[16, 17],\n",
       "       [20, 21]])"
      ]
     },
     "execution_count": 178,
     "metadata": {},
     "output_type": "execute_result"
    }
   ],
   "source": [
    "new_arr[4:6, 0:2]"
   ]
  },
  {
   "cell_type": "code",
   "execution_count": 184,
   "id": "f6cd3d48-e944-48eb-a56c-eed03d4e7b12",
   "metadata": {},
   "outputs": [
    {
     "data": {
      "text/plain": [
       "array([[ 9, 10],\n",
       "       [13, 14],\n",
       "       [17, 18],\n",
       "       [21, 22]])"
      ]
     },
     "execution_count": 184,
     "metadata": {},
     "output_type": "execute_result"
    }
   ],
   "source": [
    "new_arr[2:6, 1:3]"
   ]
  },
  {
   "cell_type": "code",
   "execution_count": 186,
   "id": "bcd7dd3e-f719-4f02-829a-6297e1e9a47e",
   "metadata": {},
   "outputs": [
    {
     "data": {
      "text/plain": [
       "array([[ 0,  1,  2,  3],\n",
       "       [ 4,  5,  6,  7],\n",
       "       [ 8,  9, 10, 11],\n",
       "       [12, 13, 14, 15],\n",
       "       [16, 17, 18, 19],\n",
       "       [20, 21, 22, 23]])"
      ]
     },
     "execution_count": 186,
     "metadata": {},
     "output_type": "execute_result"
    }
   ],
   "source": [
    "new_arr"
   ]
  },
  {
   "cell_type": "code",
   "execution_count": 192,
   "id": "975fd9d3-2a92-452a-b625-7074ae432e05",
   "metadata": {},
   "outputs": [],
   "source": [
    "lower_dim  = new_arr.ravel()"
   ]
  },
  {
   "cell_type": "code",
   "execution_count": 194,
   "id": "70a6e709-3a1d-4a50-ac0a-1f18bcf59672",
   "metadata": {},
   "outputs": [
    {
     "data": {
      "text/plain": [
       "array([ 0,  1,  2,  3,  4,  5,  6,  7,  8,  9, 10, 11, 12, 13, 14, 15, 16,\n",
       "       17, 18, 19, 20, 21, 22, 23])"
      ]
     },
     "execution_count": 194,
     "metadata": {},
     "output_type": "execute_result"
    }
   ],
   "source": [
    "lower_dim"
   ]
  },
  {
   "cell_type": "code",
   "execution_count": 196,
   "id": "bc95bdaa-83f5-4ad9-aca4-a9c4c64b5aad",
   "metadata": {},
   "outputs": [
    {
     "data": {
      "text/plain": [
       "1"
      ]
     },
     "execution_count": 196,
     "metadata": {},
     "output_type": "execute_result"
    }
   ],
   "source": [
    "lower_dim.ndim"
   ]
  },
  {
   "cell_type": "code",
   "execution_count": 202,
   "id": "3496c9d1-cf8a-475e-b577-df63910525e2",
   "metadata": {},
   "outputs": [
    {
     "data": {
      "text/plain": [
       "array([[ 0,  4,  8, 12, 16, 20],\n",
       "       [ 1,  5,  9, 13, 17, 21],\n",
       "       [ 2,  6, 10, 14, 18, 22],\n",
       "       [ 3,  7, 11, 15, 19, 23]])"
      ]
     },
     "execution_count": 202,
     "metadata": {},
     "output_type": "execute_result"
    }
   ],
   "source": [
    "#transpose =>  convert rows to columns and columns to rows\n",
    "a = new_arr.transpose()\n",
    "a"
   ]
  },
  {
   "cell_type": "code",
   "execution_count": 210,
   "id": "b5d03474-663c-4524-b6c9-39b99e5f5e3e",
   "metadata": {},
   "outputs": [
    {
     "data": {
      "text/plain": [
       "(4, 6)"
      ]
     },
     "execution_count": 210,
     "metadata": {},
     "output_type": "execute_result"
    }
   ],
   "source": [
    "a.shape"
   ]
  },
  {
   "cell_type": "code",
   "execution_count": 212,
   "id": "c00bc7e1-8fb6-4a08-8596-2455a1ff67af",
   "metadata": {},
   "outputs": [
    {
     "data": {
      "text/plain": [
       "(6, 4)"
      ]
     },
     "execution_count": 212,
     "metadata": {},
     "output_type": "execute_result"
    }
   ],
   "source": [
    "new_arr.shape"
   ]
  },
  {
   "cell_type": "code",
   "execution_count": 214,
   "id": "fb786818-02a4-42eb-8c86-26c1fbd9f0e8",
   "metadata": {},
   "outputs": [],
   "source": [
    "#STAKINGGGG!!!!!!!!!!!!!!!!!!!!!!!!!!\n",
    "# horizontal stake (columns)\n",
    "# verticla stake (rows)\n"
   ]
  },
  {
   "cell_type": "code",
   "execution_count": 216,
   "id": "c8c14932-01e4-4cf4-97c7-9a64281a5f42",
   "metadata": {},
   "outputs": [],
   "source": [
    "a = np.arange(12).reshape(3,4)"
   ]
  },
  {
   "cell_type": "code",
   "execution_count": 218,
   "id": "efc8c22e-e3cb-429f-aaa2-5f89fec345c0",
   "metadata": {},
   "outputs": [
    {
     "data": {
      "text/plain": [
       "array([[ 0,  1,  2,  3],\n",
       "       [ 4,  5,  6,  7],\n",
       "       [ 8,  9, 10, 11]])"
      ]
     },
     "execution_count": 218,
     "metadata": {},
     "output_type": "execute_result"
    }
   ],
   "source": [
    "a"
   ]
  },
  {
   "cell_type": "code",
   "execution_count": 228,
   "id": "c6ace60b-91cd-4f2e-a426-2a71309b8b5e",
   "metadata": {},
   "outputs": [],
   "source": [
    "b = np.arange(12).reshape(3,4)"
   ]
  },
  {
   "cell_type": "code",
   "execution_count": 232,
   "id": "b5e8bb2b-50cd-4743-8b21-44af17fb801c",
   "metadata": {},
   "outputs": [
    {
     "data": {
      "text/plain": [
       "array([[ 0,  2,  4,  6],\n",
       "       [ 8, 10, 12, 14],\n",
       "       [16, 18, 20, 22]])"
      ]
     },
     "execution_count": 232,
     "metadata": {},
     "output_type": "execute_result"
    }
   ],
   "source": [
    "b*2"
   ]
  },
  {
   "cell_type": "code",
   "execution_count": 236,
   "id": "e29c39fb-c4d4-4d0a-bd5c-aee727600318",
   "metadata": {},
   "outputs": [],
   "source": [
    "b = b*3"
   ]
  },
  {
   "cell_type": "code",
   "execution_count": 238,
   "id": "d034c83b-0392-445f-b651-8862d430a85e",
   "metadata": {},
   "outputs": [
    {
     "data": {
      "text/plain": [
       "array([[ 0,  3,  6,  9],\n",
       "       [12, 15, 18, 21],\n",
       "       [24, 27, 30, 33]])"
      ]
     },
     "execution_count": 238,
     "metadata": {},
     "output_type": "execute_result"
    }
   ],
   "source": [
    "b"
   ]
  },
  {
   "cell_type": "code",
   "execution_count": 240,
   "id": "ef56c1e9-9225-4cd5-b296-eaf5e8a4098c",
   "metadata": {},
   "outputs": [
    {
     "data": {
      "text/plain": [
       "array([[ 0,  1,  2,  3,  0,  3,  6,  9],\n",
       "       [ 4,  5,  6,  7, 12, 15, 18, 21],\n",
       "       [ 8,  9, 10, 11, 24, 27, 30, 33]])"
      ]
     },
     "execution_count": 240,
     "metadata": {},
     "output_type": "execute_result"
    }
   ],
   "source": [
    "np.hstack((a,b))"
   ]
  },
  {
   "cell_type": "code",
   "execution_count": 242,
   "id": "542b82dc-5d34-449a-9ee9-c8cdfa0b5312",
   "metadata": {},
   "outputs": [
    {
     "data": {
      "text/plain": [
       "array([[ 0,  3,  6,  9,  0,  1,  2,  3],\n",
       "       [12, 15, 18, 21,  4,  5,  6,  7],\n",
       "       [24, 27, 30, 33,  8,  9, 10, 11]])"
      ]
     },
     "execution_count": 242,
     "metadata": {},
     "output_type": "execute_result"
    }
   ],
   "source": [
    "np.hstack((b,a))"
   ]
  },
  {
   "cell_type": "code",
   "execution_count": 244,
   "id": "9f81aa2c-99d8-4eba-bf11-77b03a71ee1f",
   "metadata": {},
   "outputs": [
    {
     "data": {
      "text/plain": [
       "array([[ 0,  1,  2,  3,  0,  1,  2,  3],\n",
       "       [ 4,  5,  6,  7,  4,  5,  6,  7],\n",
       "       [ 8,  9, 10, 11,  8,  9, 10, 11]])"
      ]
     },
     "execution_count": 244,
     "metadata": {},
     "output_type": "execute_result"
    }
   ],
   "source": [
    "np.hstack((a,a))"
   ]
  },
  {
   "cell_type": "code",
   "execution_count": 246,
   "id": "28658190-e2e9-4eba-9568-552116b2217f",
   "metadata": {},
   "outputs": [
    {
     "data": {
      "text/plain": [
       "array([[ 0,  3,  6,  9,  0,  3,  6,  9],\n",
       "       [12, 15, 18, 21, 12, 15, 18, 21],\n",
       "       [24, 27, 30, 33, 24, 27, 30, 33]])"
      ]
     },
     "execution_count": 246,
     "metadata": {},
     "output_type": "execute_result"
    }
   ],
   "source": [
    "np.hstack((b,b))"
   ]
  },
  {
   "cell_type": "code",
   "execution_count": 248,
   "id": "91d38989-58ba-4529-b8d1-e8e414fcd0d6",
   "metadata": {},
   "outputs": [
    {
     "data": {
      "text/plain": [
       "array([[ 0,  1,  2,  3],\n",
       "       [ 4,  5,  6,  7],\n",
       "       [ 8,  9, 10, 11],\n",
       "       [ 0,  3,  6,  9],\n",
       "       [12, 15, 18, 21],\n",
       "       [24, 27, 30, 33]])"
      ]
     },
     "execution_count": 248,
     "metadata": {},
     "output_type": "execute_result"
    }
   ],
   "source": [
    "np.vstack((a,b))"
   ]
  },
  {
   "cell_type": "code",
   "execution_count": 250,
   "id": "a5a344ed-6aa5-4595-91f5-f9c187d7928d",
   "metadata": {},
   "outputs": [
    {
     "data": {
      "text/plain": [
       "array([[ 0,  1,  2,  3],\n",
       "       [ 4,  5,  6,  7],\n",
       "       [ 8,  9, 10, 11],\n",
       "       [ 0,  1,  2,  3],\n",
       "       [ 4,  5,  6,  7],\n",
       "       [ 8,  9, 10, 11]])"
      ]
     },
     "execution_count": 250,
     "metadata": {},
     "output_type": "execute_result"
    }
   ],
   "source": [
    "np.vstack((a,a))"
   ]
  },
  {
   "cell_type": "code",
   "execution_count": 258,
   "id": "c231bd76-bb5b-4aa4-babf-c09195f8a248",
   "metadata": {},
   "outputs": [
    {
     "data": {
      "text/plain": [
       "[array([[0, 1],\n",
       "        [4, 5],\n",
       "        [8, 9]]),\n",
       " array([[ 2,  3],\n",
       "        [ 6,  7],\n",
       "        [10, 11]])]"
      ]
     },
     "execution_count": 258,
     "metadata": {},
     "output_type": "execute_result"
    }
   ],
   "source": [
    "np.hsplit(a,2)"
   ]
  },
  {
   "cell_type": "code",
   "execution_count": 262,
   "id": "e807a1c3-6d9b-43f0-9828-fedeb5c0b9ec",
   "metadata": {},
   "outputs": [
    {
     "data": {
      "text/plain": [
       "[array([[0, 1],\n",
       "        [4, 5],\n",
       "        [8, 9]]),\n",
       " array([[ 2,  3],\n",
       "        [ 6,  7],\n",
       "        [10, 11]])]"
      ]
     },
     "execution_count": 262,
     "metadata": {},
     "output_type": "execute_result"
    }
   ],
   "source": [
    "np.hsplit(a,2)"
   ]
  },
  {
   "cell_type": "code",
   "execution_count": null,
   "id": "562c6f9b-0889-4516-bb1c-13b957fe5edd",
   "metadata": {},
   "outputs": [],
   "source": []
  }
 ],
 "metadata": {
  "kernelspec": {
   "display_name": "Python 3 (ipykernel)",
   "language": "python",
   "name": "python3"
  },
  "language_info": {
   "codemirror_mode": {
    "name": "ipython",
    "version": 3
   },
   "file_extension": ".py",
   "mimetype": "text/x-python",
   "name": "python",
   "nbconvert_exporter": "python",
   "pygments_lexer": "ipython3",
   "version": "3.12.4"
  }
 },
 "nbformat": 4,
 "nbformat_minor": 5
}
